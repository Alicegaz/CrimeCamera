{
 "cells": [
  {
   "cell_type": "code",
   "execution_count": 1,
   "metadata": {},
   "outputs": [],
   "source": [
    "import cv2\n",
    "import dlib\n",
    "\n",
    "import numpy as np\n",
    "import pandas as pd\n",
    "from tqdm import tqdm\n",
    "\n",
    "import matplotlib.pyplot as plt\n",
    "from matplotlib.pyplot import imshow\n",
    "%matplotlib inline\n",
    "\n",
    "import base64\n",
    "import time"
   ]
  },
  {
   "cell_type": "code",
   "execution_count": 2,
   "metadata": {},
   "outputs": [],
   "source": [
    "faces_df = pd.read_csv('../data/FaceImageCroppedWithAlignment.tsv', sep='\\t',\n",
    "                       names=['FreebaseMID', 'ImageSearchRank', 'ImageURL', 'PageURL', 'FaceID', 'FaceRectangle', 'FaceData'],\n",
    "                       nrows=1)"
   ]
  },
  {
   "cell_type": "code",
   "execution_count": 3,
   "metadata": {},
   "outputs": [
    {
     "data": {
      "text/html": [
       "<div>\n",
       "<style scoped>\n",
       "    .dataframe tbody tr th:only-of-type {\n",
       "        vertical-align: middle;\n",
       "    }\n",
       "\n",
       "    .dataframe tbody tr th {\n",
       "        vertical-align: top;\n",
       "    }\n",
       "\n",
       "    .dataframe thead th {\n",
       "        text-align: right;\n",
       "    }\n",
       "</style>\n",
       "<table border=\"1\" class=\"dataframe\">\n",
       "  <thead>\n",
       "    <tr style=\"text-align: right;\">\n",
       "      <th></th>\n",
       "      <th>FreebaseMID</th>\n",
       "      <th>ImageSearchRank</th>\n",
       "      <th>ImageURL</th>\n",
       "      <th>PageURL</th>\n",
       "      <th>FaceID</th>\n",
       "      <th>FaceRectangle</th>\n",
       "      <th>FaceData</th>\n",
       "    </tr>\n",
       "  </thead>\n",
       "  <tbody>\n",
       "    <tr>\n",
       "      <th>0</th>\n",
       "      <td>m.0107_f</td>\n",
       "      <td>0</td>\n",
       "      <td>http://getbeatmadrid.files.wordpress.com/2013/...</td>\n",
       "      <td>http://getbeatmadrid.wordpress.com/2013/01/28/...</td>\n",
       "      <td>FaceId-0</td>\n",
       "      <td>KsQsP3Pumj2B6UE/Vj4/Pg==</td>\n",
       "      <td>/9j/4AAQSkZJRgABAQEAYABgAAD/2wBDAAQCAwMDAgQDAw...</td>\n",
       "    </tr>\n",
       "  </tbody>\n",
       "</table>\n",
       "</div>"
      ],
      "text/plain": [
       "  FreebaseMID  ImageSearchRank  \\\n",
       "0    m.0107_f                0   \n",
       "\n",
       "                                            ImageURL  \\\n",
       "0  http://getbeatmadrid.files.wordpress.com/2013/...   \n",
       "\n",
       "                                             PageURL    FaceID  \\\n",
       "0  http://getbeatmadrid.wordpress.com/2013/01/28/...  FaceId-0   \n",
       "\n",
       "              FaceRectangle                                           FaceData  \n",
       "0  KsQsP3Pumj2B6UE/Vj4/Pg==  /9j/4AAQSkZJRgABAQEAYABgAAD/2wBDAAQCAwMDAgQDAw...  "
      ]
     },
     "execution_count": 3,
     "metadata": {},
     "output_type": "execute_result"
    }
   ],
   "source": [
    "faces_df"
   ]
  },
  {
   "cell_type": "code",
   "execution_count": 4,
   "metadata": {},
   "outputs": [],
   "source": [
    "DATASET_PATH = '../data/FaceImageCroppedWithAlignment.tsv'\n",
    "FACES_DUMP_PATH = '../data/faces.npy'"
   ]
  },
  {
   "cell_type": "code",
   "execution_count": 4,
   "metadata": {},
   "outputs": [],
   "source": [
    "face_rec_model_path = '../models/dlib_face_recognition_resnet_model_v1.dat'\n",
    "predictor_path = '../models/shape_predictor_68_face_landmarks.dat'\n",
    "\n",
    "shape_predictor = dlib.shape_predictor(predictor_path)\n",
    "facerec = dlib.face_recognition_model_v1(face_rec_model_path)"
   ]
  },
  {
   "cell_type": "code",
   "execution_count": 5,
   "metadata": {},
   "outputs": [],
   "source": [
    "def _dump_descriptors(face_ids, descriptors, dump_path):\n",
    "    face_ids = np.vstack(face_ids)\n",
    "    descriptors = np.vstack(descriptors)\n",
    "    faces = np.hstack([face_ids, descriptors])\n",
    "    \n",
    "    np.save(dump_path, faces)"
   ]
  },
  {
   "cell_type": "code",
   "execution_count": 8,
   "metadata": {},
   "outputs": [
    {
     "name": "stderr",
     "output_type": "stream",
     "text": [
      " 99%|█████████▉| 993/1000 [00:09<00:00, 127.92it/s]\n"
     ]
    }
   ],
   "source": [
    "max_num_lines = 8456240\n",
    "num_lines = 1000\n",
    "dump_freq = 100\n",
    "\n",
    "face_ids = []\n",
    "descriptors = []\n",
    "times = []\n",
    "\n",
    "with open(DATASET_PATH, 'r') as tsv_f:\n",
    "    for i, row_str in tqdm(enumerate(tsv_f), total=min(num_lines, max_num_lines)):\n",
    "        if i >= num_lines:\n",
    "            break\n",
    "        \n",
    "        row = row_str.split('\\t')\n",
    "        mid, face_id, data = row[0], row[4], base64.b64decode(row[-1][:-1])\n",
    "        \n",
    "        with open('../data/tmp.png', 'wb') as f:\n",
    "            f.write(data)\n",
    "        img = cv2.imread('../data/tmp.png')[..., ::-1]\n",
    "        \n",
    "        face_id = int(face_id.split('FaceId-')[-1])\n",
    "        face_ids.append(face_id)\n",
    "        \n",
    "        shape = shape_predictor(img, dlib.rectangle(0, 0, img.shape[1], img.shape[0]))\n",
    "        \n",
    "        start_time = time.time()\n",
    "        face_descriptor = facerec.compute_face_descriptor(img, shape)\n",
    "        end_time = time.time()\n",
    "        times.append(end_time - start_time)\n",
    "        \n",
    "        face_descriptor = np.array(face_descriptor)\n",
    "        descriptors.append(face_descriptor)\n",
    "        \n",
    "        if i % dump_freq == 1:\n",
    "            _dump_descriptors(face_ids, descriptors, FACES_DUMP_PATH)\n",
    "        \n",
    "    _dump_descriptors(face_ids, descriptors, FACES_DUMP_PATH)"
   ]
  },
  {
   "cell_type": "code",
   "execution_count": 12,
   "metadata": {},
   "outputs": [
    {
     "data": {
      "text/plain": [
       "20.37799280762244"
      ]
     },
     "execution_count": 12,
     "metadata": {},
     "output_type": "execute_result"
    }
   ],
   "source": [
    "(8456240 / 5994 * 52) / 3600"
   ]
  },
  {
   "cell_type": "code",
   "execution_count": 9,
   "metadata": {},
   "outputs": [
    {
     "data": {
      "text/plain": [
       "0.00441951060295105"
      ]
     },
     "execution_count": 9,
     "metadata": {},
     "output_type": "execute_result"
    }
   ],
   "source": [
    "np.mean(times)"
   ]
  },
  {
   "cell_type": "code",
   "execution_count": 10,
   "metadata": {},
   "outputs": [
    {
     "data": {
      "text/plain": [
       "(1000, 129)"
      ]
     },
     "execution_count": 10,
     "metadata": {},
     "output_type": "execute_result"
    }
   ],
   "source": [
    "np.load('../data/faces.npy').shape"
   ]
  },
  {
   "cell_type": "code",
   "execution_count": null,
   "metadata": {},
   "outputs": [],
   "source": [
    "max_num_lines = 8456240\n",
    "num_lines = 10000000000000\n",
    "\n",
    "face_ids = []\n",
    "m_ids = []\n",
    "\n",
    "with open(DATASET_PATH, 'r') as tsv_f:\n",
    "    for i, row_str in tqdm(enumerate(tsv_f), total=min(num_lines, max_num_lines)):\n",
    "        if i >= num_lines:\n",
    "            break\n",
    "        \n",
    "        row = row_str.split('\\t')\n",
    "        mid, face_id, data = row[0], row[4], base64.b64decode(row[-1][:-1])\n",
    "#         face_id = int(face_id.split('FaceId-')[-1])\n",
    "        face_ids.append(face_id)\n",
    "        m_ids.append(mid)\n",
    "\n",
    "m_ids = np.array(m_ids)\n",
    "# np.save('../data/m_ids.npy', m_ids)"
   ]
  },
  {
   "cell_type": "code",
   "execution_count": 5,
   "metadata": {},
   "outputs": [],
   "source": [
    "all_descrs = np.load('../data/faces.npy')\n",
    "m_ids = np.load('../data/m_ids.npy')"
   ]
  },
  {
   "cell_type": "code",
   "execution_count": 6,
   "metadata": {},
   "outputs": [],
   "source": [
    "unique_ids = np.unique(m_ids)\n",
    "uids_map = {uid: i for uid, i in zip(unique_ids, range(len(unique_ids)))}\n",
    "m_ids = np.apply_along_axis(lambda mid: uids_map[mid[0]], 1, m_ids)\n",
    "m_ids = m_ids[:, np.newaxis]"
   ]
  },
  {
   "cell_type": "code",
   "execution_count": 17,
   "metadata": {},
   "outputs": [],
   "source": [
    "descrs = np.hstack([m_ids, all_descrs[:, 1:]])"
   ]
  },
  {
   "cell_type": "code",
   "execution_count": 20,
   "metadata": {},
   "outputs": [],
   "source": [
    "np.save('../data/faces_.npy', descrs)"
   ]
  }
 ],
 "metadata": {
  "kernelspec": {
   "display_name": "Python 3",
   "language": "python",
   "name": "python3"
  },
  "language_info": {
   "codemirror_mode": {
    "name": "ipython",
    "version": 3
   },
   "file_extension": ".py",
   "mimetype": "text/x-python",
   "name": "python",
   "nbconvert_exporter": "python",
   "pygments_lexer": "ipython3",
   "version": "3.6.3"
  }
 },
 "nbformat": 4,
 "nbformat_minor": 2
}
